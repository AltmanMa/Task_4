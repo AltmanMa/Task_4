{
 "cells": [
  {
   "cell_type": "code",
   "execution_count": null,
   "metadata": {},
   "outputs": [],
   "source": [
    "import pymysql\n",
    "connection = pymysql.connect(\n",
    "    host='127.0.0.1',  # 例如 'localhost'\n",
    "    user='Altman13Marx',\n",
    "    password='Magujia1107!',\n",
    "    database='task_4_data'\n",
    ")"
   ]
  },
  {
   "cell_type": "code",
   "execution_count": null,
   "metadata": {},
   "outputs": [],
   "source": [
    "from eodhd import APIClient\n",
    "import pandas as pd\n",
    "import datetime\n",
    "import numpy as np\n",
    "import calendar \n",
    "import scipy.stats as stats\n",
    "import matplotlib.pyplot as plt\n",
    "import os\n",
    "import csv\n",
    "import requests"
   ]
  },
  {
   "cell_type": "code",
   "execution_count": null,
   "metadata": {},
   "outputs": [],
   "source": [
    "csv_file_path = 'S&P500.csv'  # 替换为你的CSV文件路径\n",
    "df = pd.read_csv(csv_file_path)"
   ]
  },
  {
   "cell_type": "code",
   "execution_count": null,
   "metadata": {},
   "outputs": [],
   "source": [
    "create_table_query = \"\"\"\n",
    "CREATE TABLE IF NOT EXISTS `S&P_500` (\n",
    "    `Code` VARCHAR(10) NOT NULL,\n",
    "    `Exchange` VARCHAR(10) NOT NULL,\n",
    "    `Name` VARCHAR(100) NOT NULL,\n",
    "    `Sector` VARCHAR(50) NOT NULL,\n",
    "    `Industry` VARCHAR(100) NOT NULL,\n",
    "    PRIMARY KEY (`Code`)\n",
    ");\n",
    "\"\"\"\n",
    "\n",
    "with connection.cursor() as cursor:\n",
    "    cursor.execute(create_table_query)\n",
    "    connection.commit()\n",
    "\n",
    "insert_query = \"\"\"\n",
    "INSERT INTO `S&P_500` (`Code`, `Exchange`, `Name`, `Sector`, `Industry`)\n",
    "VALUES (%s, %s, %s, %s, %s)\n",
    "\"\"\"\n",
    "\n",
    "with connection.cursor() as cursor:\n",
    "    for index, row in df.iterrows():\n",
    "        cursor.execute(insert_query, tuple(row))\n",
    "    connection.commit()"
   ]
  },
  {
   "cell_type": "code",
   "execution_count": null,
   "metadata": {},
   "outputs": [],
   "source": [
    "connection.close()\n"
   ]
  }
 ],
 "metadata": {
  "kernelspec": {
   "display_name": "tensorflow_env",
   "language": "python",
   "name": "python3"
  },
  "language_info": {
   "name": "python",
   "version": "3.10.13"
  }
 },
 "nbformat": 4,
 "nbformat_minor": 2
}
